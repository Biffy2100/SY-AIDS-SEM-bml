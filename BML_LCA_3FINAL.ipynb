{
  "nbformat": 4,
  "nbformat_minor": 0,
  "metadata": {
    "colab": {
      "provenance": [],
      "mount_file_id": "1TrA_Hr4y91y4KAmeebKUseVTHHhRFvXl",
      "authorship_tag": "ABX9TyNHgXBKMVGSLgWGDvve/vhl",
      "include_colab_link": true
    },
    "kernelspec": {
      "name": "python3",
      "display_name": "Python 3"
    },
    "language_info": {
      "name": "python"
    }
  },
  "cells": [
    {
      "cell_type": "markdown",
      "metadata": {
        "id": "view-in-github",
        "colab_type": "text"
      },
      "source": [
        "<a href=\"https://colab.research.google.com/github/Biffy2100/SY-AIDS-SEM-bml/blob/main/BML_LCA_3FINAL.ipynb\" target=\"_parent\"><img src=\"https://colab.research.google.com/assets/colab-badge.svg\" alt=\"Open In Colab\"/></a>"
      ]
    },
    {
      "cell_type": "markdown",
      "source": [
        "# Import and load the dataset"
      ],
      "metadata": {
        "id": "SIvz3yIxQ-Us"
      }
    },
    {
      "cell_type": "code",
      "source": [
        "# Step 1: Import libraries\n",
        "import pandas as pd\n",
        "from sklearn.model_selection import train_test_split\n",
        "from sklearn.naive_bayes import GaussianNB\n",
        "from sklearn.preprocessing import LabelEncoder\n",
        "from sklearn.metrics import accuracy_score, classification_report\n",
        "\n",
        "#Loading the Dataset\n",
        "df = pd.read_csv('/content/processed.cleveland.data')\n"
      ],
      "metadata": {
        "id": "vutC_kPzQduF"
      },
      "execution_count": 39,
      "outputs": []
    },
    {
      "cell_type": "markdown",
      "source": [
        "# Rename the columns"
      ],
      "metadata": {
        "id": "YnpFFpTkRBRa"
      }
    },
    {
      "cell_type": "code",
      "source": [
        "# Define the correct column names\n",
        "column_names = [\n",
        "    \"age\", \"sex\", \"cp\", \"trestbps\", \"chol\", \"fbs\", \"restecg\",\n",
        "    \"thalach\", \"exang\", \"oldpeak\", \"slope\", \"ca\", \"thal\", \"num\"\n",
        "]\n",
        "\n",
        "# Load the dataset and assign column names\n",
        "df = pd.read_csv(\"processed.cleveland.data\", names=column_names)\n",
        "\n",
        "\n",
        "#Note: Dataset did not have right column names so had to rename them"
      ],
      "metadata": {
        "id": "YDKAx1dwQfry"
      },
      "execution_count": 40,
      "outputs": []
    },
    {
      "cell_type": "markdown",
      "source": [
        "#Preprocessing And data cleaning"
      ],
      "metadata": {
        "id": "kzGNwiMvRPVx"
      }
    },
    {
      "cell_type": "code",
      "source": [
        "# Show the first few rows to verify\n",
        "print(df.head())\n",
        "\n",
        "# Step 3: Handle missing values (simple approach: drop rows with missing values)\n",
        "df = df.dropna()\n",
        "\n",
        "# Replace '?' with NaN\n",
        "df = df.replace('?', pd.NA)\n",
        "\n",
        "# Drop rows with NaN values\n",
        "df = df.dropna()\n",
        "\n",
        "# Convert to numeric (where needed)\n",
        "df = df.apply(pd.to_numeric, errors='coerce')"
      ],
      "metadata": {
        "colab": {
          "base_uri": "https://localhost:8080/"
        },
        "id": "x7FMMrYbQjnL",
        "outputId": "acede928-282e-4862-9ba5-9f07827a466f"
      },
      "execution_count": 38,
      "outputs": [
        {
          "output_type": "stream",
          "name": "stdout",
          "text": [
            "    age  sex  cp  trestbps   chol  fbs  restecg  thalach  exang  oldpeak  \\\n",
            "0  63.0    1   0     145.0  233.0    1        2    150.0      0      2.3   \n",
            "1  67.0    1   3     160.0  286.0    0        2    108.0      1      1.5   \n",
            "2  67.0    1   3     120.0  229.0    0        2    129.0      1      2.6   \n",
            "3  37.0    1   2     130.0  250.0    0        0    187.0      0      3.5   \n",
            "4  41.0    0   1     130.0  204.0    0        2    172.0      0      1.4   \n",
            "\n",
            "   slope   ca  thal  num  \n",
            "0      2  0.0     1    0  \n",
            "1      1  3.0     0    2  \n",
            "2      1  2.0     2    1  \n",
            "3      2  0.0     0    0  \n",
            "4      0  0.0     0    0  \n"
          ]
        }
      ]
    },
    {
      "cell_type": "markdown",
      "source": [
        "#Encoding\n",
        "(Label encoder)"
      ],
      "metadata": {
        "id": "zWawROUmRnc5"
      }
    },
    {
      "cell_type": "code",
      "source": [
        "# Step 4: Encode categorical variables\n",
        "categorical_columns = ['sex', 'cp', 'fbs', 'restecg', 'exang', 'slope', 'thal']\n",
        "\n",
        "\n",
        "label_encoder = LabelEncoder()\n",
        "for col in categorical_columns:\n",
        "    df[col] = label_encoder.fit_transform(df[col])\n",
        "\n",
        "# Step 5: Define features and target\n",
        "X = df.drop('num', axis=1)\n",
        "y = df['num']\n"
      ],
      "metadata": {
        "id": "T9--_tOVQlCC"
      },
      "execution_count": 35,
      "outputs": []
    },
    {
      "cell_type": "markdown",
      "source": [
        "#Training The Model"
      ],
      "metadata": {
        "id": "g-NzgPsnRueB"
      }
    },
    {
      "cell_type": "code",
      "source": [
        "# Step 6: Split into training and testing data\n",
        "X_train, X_test, y_train, y_test = train_test_split(X, y, test_size=0.2, random_state=42)\n",
        "\n",
        "# Step 7: Train Naive Bayes model\n",
        "model = GaussianNB()\n",
        "model.fit(X_train, y_train)\n",
        "\n",
        "# Step 8: Make predictions\n",
        "y_pred = model.predict(X_test)\n",
        "\n",
        "# Step 9: Evaluate model\n",
        "print(\"Accuracy:\", accuracy_score(y_test, y_pred))\n",
        "print(\"\\nClassification Report:\\n\", classification_report(y_test, y_pred))"
      ],
      "metadata": {
        "colab": {
          "base_uri": "https://localhost:8080/"
        },
        "id": "Q4URuQr9Park",
        "outputId": "4996453c-e0ce-4088-ed62-bc478732099e"
      },
      "execution_count": 57,
      "outputs": [
        {
          "output_type": "stream",
          "name": "stdout",
          "text": [
            "Accuracy: 0.6\n",
            "\n",
            "Classification Report:\n",
            "               precision    recall  f1-score   support\n",
            "\n",
            "           0       0.94      0.89      0.91        36\n",
            "           1       0.18      0.22      0.20         9\n",
            "           2       0.50      0.20      0.29         5\n",
            "           3       0.00      0.00      0.00         7\n",
            "           4       0.08      0.33      0.13         3\n",
            "\n",
            "    accuracy                           0.60        60\n",
            "   macro avg       0.34      0.33      0.31        60\n",
            "weighted avg       0.64      0.60      0.61        60\n",
            "\n"
          ]
        }
      ]
    }
  ]
}